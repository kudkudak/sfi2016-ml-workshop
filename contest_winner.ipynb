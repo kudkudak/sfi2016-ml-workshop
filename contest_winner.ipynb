{
 "cells": [
  {
   "cell_type": "code",
   "execution_count": 4,
   "metadata": {
    "collapsed": false
   },
   "outputs": [],
   "source": [
    "import numpy as np\n",
    "import cPickle\n",
    "import gzip\n",
    "import sklearn\n",
    "from sklearn.ensemble import ExtraTreesClassifier\n",
    "import time\n",
    "%matplotlib inline"
   ]
  },
  {
   "cell_type": "code",
   "execution_count": 5,
   "metadata": {
    "collapsed": false
   },
   "outputs": [
    {
     "name": "stdout",
     "output_type": "stream",
     "text": [
      "Danych trenujących jest: 5000\n",
      "Danych testujących jest: 1000\n",
      "Wymiary jednego przykładu: (32, 32, 3)\n",
      "Możliwe klasy to: [0 1 2 3 4 5 6 7 8 9]\n"
     ]
    }
   ],
   "source": [
    "def load_train_data():\n",
    "    with gzip.open(\"data/svhn_train_5k.pkl.gz\", 'r') as f:\n",
    "        X_train, y_train = cPickle.load(f)\n",
    "        \n",
    "    assert X_train.shape[0] == y_train.shape[0] == 5000\n",
    "    \n",
    "    return X_train, y_train\n",
    "\n",
    "def load_test_data():\n",
    "    with gzip.open(\"data/svhn_test_1k.pkl.gz\", 'r') as f:\n",
    "        X_test, y_test = cPickle.load(f)\n",
    "    \n",
    "    assert X_test.shape[0] == y_test.shape[0] == 1000\n",
    "    \n",
    "    return X_test, y_test\n",
    "\n",
    "X_train, y_train = load_train_data()\n",
    "X_test, y_test = load_test_data()\n",
    "\n",
    "print \"Danych trenujących jest:\", X_train.shape[0]\n",
    "print \"Danych testujących jest:\", X_test.shape[0]\n",
    "\n",
    "print \"Wymiary jednego przykładu:\", X_train[0].shape\n",
    "print \"Możliwe klasy to:\", np.unique(y_train)"
   ]
  },
  {
   "cell_type": "code",
   "execution_count": 6,
   "metadata": {
    "collapsed": false
   },
   "outputs": [
    {
     "name": "stdout",
     "output_type": "stream",
     "text": [
      "0:00:26\n",
      "Dokładność klasyfikacji: 0.584\n"
     ]
    }
   ],
   "source": [
    "X_train_grayscale = np.dot(X_train[:,:,:,:3], [0.299, 0.587, 0.114])\n",
    "X_train_scaled = X_train_grayscale.reshape(X_train.shape[0], -1) / 256\n",
    "\n",
    "start = datetime.now().replace(microsecond=0)\n",
    "\n",
    "m = ExtraTreesClassifier(max_depth=120, random_state=100, min_samples_split=1, n_estimators=500, max_features=100, n_jobs=-1)\n",
    "m.fit(X_train_scaled, y_train)\n",
    "\n",
    "end = datetime.now().replace(microsecond=0);\n",
    "\n",
    "print (end-start)\n",
    "\n",
    "X_test_grayscale = np.dot(X_test[:,:,:,:3], [0.299, 0.587, 0.114])\n",
    "X_test_scaled = X_test_grayscale.reshape(X_test_grayscale.shape[0], -1) / 256.\n",
    "pred = m.predict(X_test_scaled)\n",
    "\n",
    "print \"Dokładność klasyfikacji:\", accuracy_score(y_test, pred)"
   ]
  }
 ],
 "metadata": {
  "kernelspec": {
   "display_name": "Python 2",
   "language": "python",
   "name": "python2"
  },
  "language_info": {
   "codemirror_mode": {
    "name": "ipython",
    "version": 2
   },
   "file_extension": ".py",
   "mimetype": "text/x-python",
   "name": "python",
   "nbconvert_exporter": "python",
   "pygments_lexer": "ipython2",
   "version": "2.7.10"
  }
 },
 "nbformat": 4,
 "nbformat_minor": 0
}
