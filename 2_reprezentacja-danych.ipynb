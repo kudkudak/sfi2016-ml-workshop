{
 "cells": [
  {
   "cell_type": "markdown",
   "metadata": {},
   "source": [
    "# Praktyczny Machine Learning w Pythonie\n",
    "<br>\n",
    "<img src=\"figures/boyfriend.png\">\n",
    "\n",
    "## Co to jest Machine Learning? \n",
    "\n",
    "Machine learning zajmuje się tworzeniem modeli na podstawie danych, które potrafią rozwiązywać dany problem, na przykład klasyfikować cyfry lub rozpoznawać czy dany e-mail jest spamem.  Stworzony model (na podstawie zbioru danych, np. e-maili sprzed paru lat) potem jest testowany na nowych przykładach (nowych e-mailach).\n",
    "\n",
    "Praktyczne systemy machine learningu działają wszędzie. Przykłady to Amazon, Google Translate, Filmweb, rozpoznawanie głosu w Androidzie itp.\n",
    "\n",
    "Jak wspominałem celem warsztatów nie jest nauka machine learningu samego w sobie, \n",
    "tylko raczej wykorzystanie go do rozwiązania konkretnego problemu. Pod koniec zamieścimy dobre źródła do samodzielnej nauki.\n",
    "\n",
    "<img src=\"figures/ml-chart-simple.jpg\">\n",
    "\n",
    "\n",
    "** Skupmy się na problemie klasyfikacji. Chcemy nauczyć algorytm który przydzieli każdemu przykładowi (obrazek, zdanie, itp.) jakąś wartość na podstawie jakiś danych. ** Przykładowo:\n",
    "\n",
    "* Jaka to cyfra:\n",
    "    * dane: obrazek cyfry\n",
    "    * możliwe klasy: 0,1,2,3,4,5,6,7,8,9\n",
    "* Czy na obrazku znajduje się motor? (możliwe klasy/wartości: 0/1)\n",
    "* Czy jutro będzie padało (możliwe klasy: 0/1).\n",
    "    * dane: wiatr, temperatura i opady sprzed 10 dni\n",
    "\n",
    "<img src=\"figures/2d_classification.jpg\">\n",
    "\n",
    "## Reprezentacja danych - kwiatek w komputerze?\n",
    "\n",
    "Iris to znany zbiór danych, w których przykładami są różne gatunki irysa (kwiatek!), którym staramy się przyporządkować gatunek (jeden z trzech).\n",
    "\n",
    "Musimy jakoś ten kwiatek zareprezentować w komputerze. W tym celu zwykle opisujemy każdy przykład wektorem liczb (numpy!), np. możemy zmierzyć wielkość płatków.\n",
    "\n",
    "Pakiet scikit-learn (o którym będzie więcej!) ma wbudowany zbiór Iris.\n",
    "\n",
    "Każdy kwiatek jest opisany jako wektor 4 liczb opisujących wymiary kwiatka\n",
    "\n",
    "1. Długość płatka w cm\n",
    "2. Szerokosć płatka w cm\n",
    "3. Długość działki kielicha (??) w cm\n",
    "4. Szerokość działki kielicha (??) w cm\n",
    "\n",
    "Staramy się przewidzieć gatunek, czyli jeden z :\n",
    "\n",
    "1. Iris Setosa\n",
    "2. Iris Versicolour\n",
    "3. Iris Virginica"
   ]
  },
  {
   "cell_type": "markdown",
   "metadata": {},
   "source": [
    "Większość danych w scikit-learn reprezentowanych jest jako macierz ilość przykładów x ilość cech, \n",
    "czyli każdy wiersz to jeden przykład"
   ]
  },
  {
   "cell_type": "code",
   "execution_count": null,
   "metadata": {
    "collapsed": false
   },
   "outputs": [],
   "source": [
    "from sklearn.datasets import load_iris\n",
    "iris = load_iris()"
   ]
  },
  {
   "cell_type": "code",
   "execution_count": null,
   "metadata": {
    "collapsed": false
   },
   "outputs": [],
   "source": [
    "# Załadowany obiekt jest słownikiem\n",
    "iris.keys()"
   ]
  },
  {
   "cell_type": "code",
   "execution_count": null,
   "metadata": {
    "collapsed": false
   },
   "outputs": [],
   "source": [
    "iris['target_names']"
   ]
  },
  {
   "cell_type": "code",
   "execution_count": null,
   "metadata": {
    "collapsed": false
   },
   "outputs": [],
   "source": [
    "# Nawet ma ładny opis ocb.\n",
    "_ = iris[\"DESCR\"] "
   ]
  },
  {
   "cell_type": "markdown",
   "metadata": {},
   "source": [
    "## Zbiory danych to macierze numpy !\n",
    "\n",
    "Macierz numpy przechowuje swój wymiar w zmiennej *shape*."
   ]
  },
  {
   "cell_type": "code",
   "execution_count": null,
   "metadata": {
    "collapsed": false
   },
   "outputs": [],
   "source": [
    "n_samples, n_features = iris.data.shape\n",
    "print \"Macierz ma wymiar: \", iris.data.shape"
   ]
  },
  {
   "cell_type": "code",
   "execution_count": null,
   "metadata": {
    "collapsed": false
   },
   "outputs": [],
   "source": [
    "iris.data[0]"
   ]
  },
  {
   "cell_type": "code",
   "execution_count": null,
   "metadata": {
    "collapsed": false
   },
   "outputs": [],
   "source": [
    "print \"Ilość przykładów: \", n_samples\n",
    "print \"Każdy przykład ma \", n_features, \" cechy\"\n",
    "print \"Pierwszy przykład: \", iris.data[0]"
   ]
  },
  {
   "cell_type": "markdown",
   "metadata": {},
   "source": [
    "### Cwiczenie 2: \n",
    "    a) Jaka jest średnia długość płatka w zbiorze danych? (pierwsza cecha przykładu, podpowiedź: macierz przykładów jest w iris.data). \n",
    "    b) Narysuj histogram długości płatka"
   ]
  },
  {
   "cell_type": "code",
   "execution_count": null,
   "metadata": {
    "collapsed": false
   },
   "outputs": [],
   "source": [
    "%matplotlib inline\n",
    "from matplotlib import pyplot as plt"
   ]
  },
  {
   "cell_type": "code",
   "execution_count": null,
   "metadata": {
    "collapsed": false
   },
   "outputs": [],
   "source": [
    "# Możemy sobie narysować zbiór danych ale musimy wziac 2 wymiary aby rysować w 2 wymiarach :)\n",
    "x_index = 0\n",
    "y_index = 1\n",
    "\n",
    "plt.scatter(iris.data[:, x_index], iris.data[:, y_index], c=iris.target)\n",
    "plt.xlabel(iris.feature_names[x_index])\n",
    "plt.ylabel(iris.feature_names[y_index])"
   ]
  },
  {
   "cell_type": "markdown",
   "metadata": {},
   "source": [
    "### Ćwiczenie 3: \n",
    "    a) We wcześniejszym przykładzie narysowałem wykres na podstawie 1 i 2 cechy (2 z 4 cech). Proszę sprawdzić czy jakaś inna kombinacja cech poprawia separowalność przykładów (łatwiej je oddzielić kreską)"
   ]
  }
 ],
 "metadata": {
  "kernelspec": {
   "display_name": "Python 2",
   "language": "python",
   "name": "python2"
  },
  "language_info": {
   "codemirror_mode": {
    "name": "ipython",
    "version": 2
   },
   "file_extension": ".py",
   "mimetype": "text/x-python",
   "name": "python",
   "nbconvert_exporter": "python",
   "pygments_lexer": "ipython2",
   "version": "2.7.6"
  }
 },
 "nbformat": 4,
 "nbformat_minor": 0
}
